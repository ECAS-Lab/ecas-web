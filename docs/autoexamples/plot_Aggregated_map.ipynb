{
  "cells": [
    {
      "cell_type": "code",
      "execution_count": null,
      "metadata": {
        "collapsed": false
      },
      "outputs": [],
      "source": [
        "%matplotlib inline"
      ]
    },
    {
      "cell_type": "markdown",
      "metadata": {},
      "source": [
        "\nCompute a temporal aggregation and plot on a map\n\n===========================\n\nImport PyOphidia and connect to server instance\n"
      ]
    },
    {
      "cell_type": "code",
      "execution_count": null,
      "metadata": {
        "collapsed": false
      },
      "outputs": [],
      "source": [
        "from PyOphidia import cube, client\ncube.Cube.setclient(read_env=True)\n\n\n# Import data, compute average over time and extract values\n\n# In[ ]:\n\n\nmycube = cube.Cube.importnc(src_path='/public/data/ecas_training/tos_O1_2001-2002.nc',measure='tos',imp_dim='time',import_metadata='yes',ncores=5)\nmycube2 = mycube.reduce(operation='max',ncores=5)\nmycube3 = mycube2.rollup(ncores=5)\ndata = mycube3.export_array()\n\n\n# Plot output data on map\n\n# In[ ]:\n\n\n\nimport matplotlib.pyplot as plt\nfrom mpl_toolkits.basemap import Basemap, cm\nimport numpy as np\n\nlat = data['dimension'][0]['values'][:]\nlon = data['dimension'][1]['values'][:]\nvar = data['measure'][0]['values'][:]\n\nfig = plt.figure(figsize=(15, 15), dpi=100)\nax  = fig.add_axes([0.1,0.1,0.8,0.8])\n\nmap = Basemap(projection='cyl',llcrnrlat= -90,urcrnrlat= 90, llcrnrlon=0,urcrnrlon=360, resolution='c')\n\nmap.drawcoastlines()\nmap.drawparallels(np.arange( -90, 90,30),labels=[1,0,0,0])\nmap.drawmeridians(np.arange(-180,180,30),labels=[0,0,0,1])\n\nx, y = map(*np.meshgrid(lon,lat))\n\nclevs = np.arange(265,310,0.5)\n\ncnplot = map.contourf(x,y,var,clevs,cmap=plt.cm.jet)\ncbar = map.colorbar(cnplot,location='right')\n\nplt.title('Sea Surface Temperature (deg K)')\nplt.show()\n\n\n# Export result to NetCDF file\n\n# In[ ]:\n\n\nmycube3.exportnc2(output_path='/home/' + cube.Cube.client.username,export_metadata='yes')\n\n\n# A file called *tos.nc* will be created in your home folder\n# \n# Clear your workspace before running other notebooks\n\n# In[ ]:\n\n\ncube.Cube.deletecontainer(container='tos_O1_2001-2002.nc',force='yes')"
      ]
    }
  ],
  "metadata": {
    "kernelspec": {
      "display_name": "Python 3",
      "language": "python",
      "name": "python3"
    },
    "language_info": {
      "codemirror_mode": {
        "name": "ipython",
        "version": 3
      },
      "file_extension": ".py",
      "mimetype": "text/x-python",
      "name": "python",
      "nbconvert_exporter": "python",
      "pygments_lexer": "ipython3",
      "version": "3.7.4"
    }
  },
  "nbformat": 4,
  "nbformat_minor": 0
}