{
  "cells": [
    {
      "cell_type": "code",
      "execution_count": null,
      "metadata": {
        "collapsed": false
      },
      "outputs": [],
      "source": [
        "%matplotlib inline"
      ]
    },
    {
      "cell_type": "markdown",
      "metadata": {},
      "source": [
        "\nDemo: Export datacubes and files to EUDAT B2DROP\n================================================\n\nIn this demo we will run some data analytics, create some plots and export the dataset and plot produced during these stages on our B2DROP folder.\n\nPre-requisite 1: a B2DROP account is required. You can login to B2DROP through B2ACCESS.\n\nPre-requisite 2: a NetCDF file in your B2DROP space (base folder).\n\nPre-requisite 3: a specific Application Password to be used for the file sharing through Ophidia, in order to avoid the sharing of the actual password with external applications.\n"
      ]
    },
    {
      "cell_type": "code",
      "execution_count": null,
      "metadata": {
        "collapsed": false
      },
      "outputs": [],
      "source": [
        "#!/usr/bin/env python\n# coding: utf-8\n\n# # Demo: Export datacubes and files to EUDAT B2DROP\n\n# In this demo we will run some data analytics, create some plots and export the dataset and plot produced during these stages on our B2DROP folder.\n# \n# **Pre-requisite 1:** a B2DROP account is required. You can login to B2DROP through B2ACCESS.\n# \n# **Pre-requisite 2:** a NetCDF file in your B2DROP space (base folder).\n# \n# **Pre-requisite 3:** a specific *Application Password* to be used for the file sharing through Ophidia, in order to avoid the sharing of the actual password with external applications.\n# \n# <img src=\"imgs/b2drop_setup.png\" alt=\"B2DROP Setup\" width=\"1000\">\n# \n# \n# After clicking on the *Create new app password* button a new password will be create. **The credentials will be shown just once so we need to store them before clicking on the *complete* button.**\n\n# In[ ]:\n\n\n\n\n\n# Create a new **.netrc** file in the home directory with the credentials just generated (like in the example). This file will be used by Ophidia to authenticate to the B2DROP account and upload the files.\n\n# In[1]:\n\n\n# get_ipython().run_cell_magic('bash', '', \"> $HOME/.netrc\\ncat <<'EOF' >> $HOME/.netrc\\nmachine <B2DROP service>\\nlogin  <username>\\npassword <password>\\nEOF\\nchmod 0600 $HOME/.netrc\")\n\n\n# We can now download the NetCDF file from our B2DROP space, but before let's change the current folder used by Ophidia\n\n# In[2]:\n\n\nfrom PyOphidia import cube, client\ncube.Cube.setclient(read_env=True)\n\ncube.Cube.fs(command='cd',\n             dpath='/home/'+cube.Cube.client.username+'/', \n             display=True)\n\n\n# PyOphidia allows to download files from our B2DROP space by running the following *class method* (this is internally using the B2DROP APIs)\n\n# In[3]:\n\n\ncube.Cube.b2drop(src_path='tos.nc',action='get',dst_path='tos-b2drop.nc')\n\n\n# A new file named tos.nc will be available under the base folder /\n\n# In[ ]:\n\n\nget_ipython().run_cell_magic('bash', '', 'ls -l $HOME/*.nc')\n\n\n# Let's now import the dataset downloaded from B2DROP and run some basic operations.\n\n# In[ ]:\n\n\nfrom PyOphidia import cube, client\ncube.Cube.setclient(read_env=True)\n\nmycube = cube.Cube.importnc(src_path='tos-b2drop.nc', measure='tasmax', imp_dim='time', import_metadata='yes', \n                            imp_concept_level='d', ncores=2, hierarchy='oph_base|oph_base|oph_time', \n                            ioserver='ophidiaio_memory')\n\nmycube2 = mycube.reduce(operation='max',ncores=2)\n\nmycube2.info()\n\n\n# Recall that the current folder is:\n\n# In[ ]:\n\n\ncube.Cube.fs(command='ls', display=True)\n\n\n# To export into a nc file called tos.nc\n\n# In[ ]:\n\n\nmycube2.exportnc2(output_path='./',output_name='tos-ophidia')\n\n\n# A new file name *tos-ophidia.nc* will be available under the base folder */*\n\n# In[ ]:\n\n\nget_ipython().run_cell_magic('bash', '', 'ls -l $HOME/*.nc')\n\n\n# We can reuse the PyOphidia *class method* also to upload data to the B2DROP space\n\n# In[ ]:\n\n\ncube.Cube.b2drop(src_path='tos-ophidia.nc',action='put')\n\n\n# Let's try to create a map with the datacube previously computed and store the file as *map.png*\n\n# In[ ]:\n\n\nget_ipython().run_line_magic('matplotlib', 'inline')\n\nimport matplotlib.pyplot as plt\nfrom mpl_toolkits.basemap import Basemap, cm, addcyclic, shiftgrid\nimport numpy as np\n\ndata = mycube2.export_array()\nlat = data['dimension'][0]['values'][:]\nlon = data['dimension'][1]['values'][:]\nvar = data['measure'][0]['values'][:]\n\nfig = plt.figure(figsize=(15, 15), dpi=100)\nax  = fig.add_axes([0.1,0.1,0.8,0.8])\n\nmap = Basemap(projection='cyl',llcrnrlat=-90,urcrnrlat=90, llcrnrlon=-180,urcrnrlon=180, lon_0=0, resolution='c')\n\nmap.drawcoastlines()\nmap.drawparallels(np.arange( -90, 90,30),labels=[1,0,0,0])\nmap.drawmeridians(np.arange(-180,180,30),labels=[0,0,0,1])\n\nvar = np.reshape(var, (len(lat), len(lon)))\nvar_cyclic, lon_cyclic = addcyclic(var, lon)\nvar_cyclic, lon_cyclic  = shiftgrid(180., var_cyclic, lon_cyclic, start=False)\nx, y = map(*np.meshgrid(lon_cyclic,lat))\n\nlevStep = (np.max(var)-np.min(var))/30\nclevs = np.arange(np.min(var),np.max(var)+levStep,levStep)\n\ncnplot = map.contourf(x,y,var_cyclic,clevs,cmap=plt.cm.jet)\ncbar = map.colorbar(cnplot,location='right')\n\nplt.title('Maximum Temperature (deg K)')\nplt.savefig('map.png',  bbox_inches='tight')\nplt.show()\n\n\n# Using the PyOphidia method we can upload any type of file on B2DROP (we don't need to specify the *action* argument, since upload is the default action)\n\n# In[ ]:\n\n\ncube.Cube.b2drop(src_path='./map.png')\n\n\n# In a more integrated fashion, we can directly export a datacube into a NetCDF remotely stored on the B2DROP space.\n\n# In[ ]:\n\n\nmycube2.to_b2drop()\n\n\n# To clear your workspace before running other notebooks\n\n# In[ ]:\n\n\ncube.Cube.deletecontainer(container='tos-b2drop.nc',force='yes')"
      ]
    }
  ],
  "metadata": {
    "kernelspec": {
      "display_name": "Python 3",
      "language": "python",
      "name": "python3"
    },
    "language_info": {
      "codemirror_mode": {
        "name": "ipython",
        "version": 3
      },
      "file_extension": ".py",
      "mimetype": "text/x-python",
      "name": "python",
      "nbconvert_exporter": "python",
      "pygments_lexer": "ipython3",
      "version": "3.7.4"
    }
  },
  "nbformat": 4,
  "nbformat_minor": 0
}