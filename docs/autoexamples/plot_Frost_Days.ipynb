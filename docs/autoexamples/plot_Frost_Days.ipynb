{
  "cells": [
    {
      "cell_type": "code",
      "execution_count": null,
      "metadata": {
        "collapsed": false
      },
      "outputs": [],
      "source": [
        "%matplotlib inline"
      ]
    },
    {
      "cell_type": "markdown",
      "metadata": {},
      "source": [
        "\nCompute the Frost Days Climate Index\n====================================\n\nThis notebook computes the **Frost Days index**: starting from the daily minimum temperature (1980-1990) TN,\nthe Frost Days index is the number of days where $TN < 0\u00b0$\nAs first step, let's connect to the remote ECAS instance\n"
      ]
    },
    {
      "cell_type": "code",
      "execution_count": null,
      "metadata": {
        "collapsed": false
      },
      "outputs": [],
      "source": [
        "#!/usr/bin/env python\n# coding: utf-8\n\n# # Compute the Frost Days Climate Index\n# \n# This notebook computes the **Frost Days index**: starting from the daily minimum temperature (1980-1990) TN,\n# the Frost Days index is the number of days where $TN < 0\u00b0$\n\n# As first step, let's connect to the remote ECAS instance\n\n# In[ ]:\n\n\nfrom PyOphidia import cube\ncube.Cube.setclient(read_env=True)\n\n\n# Import input NetCDF data set (with minimum temperature in \u00b0K)\n\n# In[ ]:\n\n\nmintemp = cube.Cube(src_path='/public/data/ecas_training/E63_kp40_198001_199012_T2m_daymin_merged.nc',\n    measure='temp2',\n    import_metadata='yes',\n    imp_dim='time',\n    imp_concept_level='d', vocabulary='CF',hierarchy='oph_base|oph_base|oph_time',\n    ncores=4,\n    description='Min Temps'\n    )\n\n\n# Identify the frost days: $\\{day \\mid TN(day) < 273.15\\}$  with apply (we are basically creating a mask)\n\n# In[ ]:\n\n\nfrostdays = mintemp.apply(\n    query=\"oph_predicate('OPH_FLOAT','OPH_INT',measure,'x-273.15','<0','1','0')\"\n)\n\n\n# Count the number of yearly frost days\n\n# In[ ]:\n\n\ncount = frostdays.reduce2(\n    operation='sum',\n    dim='time',\n    concept_level='y',\n)\n\n\n# Subset on the first year\n\n# In[ ]:\n\n\nfirstyear = count.subset(subset_filter=1, subset_dims='time')\nfirstyear.info()\n\n\n# Plot the indicator on a map\n\n# In[ ]:\n\n\n# get_ipython().run_line_magic('matplotlib', 'inline')\nimport warnings\nwarnings.filterwarnings('ignore')\n\nimport matplotlib.pyplot as plt\nfrom mpl_toolkits.basemap import Basemap, cm, addcyclic, shiftgrid\nimport numpy as np\n\ndata = firstyear.export_array(show_time='yes')\nlat = data['dimension'][0]['values'][:]\nlon = data['dimension'][1]['values'][:]\nvar = data['measure'][0]['values'][:]\nvar = np.reshape(var, (len(lat), len(lon)))\n\nfig = plt.figure(figsize=(15, 15), dpi=100)\nax  = fig.add_axes([0.1,0.1,0.8,0.8])\n\nmap = Basemap(projection='cyl',llcrnrlat=-90,urcrnrlat=90, llcrnrlon=-180,urcrnrlon=180, lon_0=0, resolution='c')\n\nmap.drawcoastlines()\nmap.drawparallels(np.arange( -90, 90,30),labels=[1,0,0,0])\nmap.drawmeridians(np.arange(-180,180,30),labels=[0,0,0,1])\n\nvar_cyclic, lon_cyclic = addcyclic(var, lon)\nvar_cyclic, lon_cyclic  = shiftgrid(180., var_cyclic, lon_cyclic, start=False)\nx, y = map(*np.meshgrid(lon_cyclic,lat))\n\nlevStep = (np.max(var)-np.min(var))/10\nclevs = np.arange(np.min(var),np.max(var)+levStep,levStep)\n\ncnplot = map.contourf(x,y,var_cyclic,clevs,cmap=plt.cm.Blues)\ncbar = map.colorbar(cnplot,location='right')\n\nplt.title('Frost Days (year 1980)')\nplt.show()\n\n\n# To clear your workspace before running other notebooks\n\n# In[ ]:\n\n\ncube.Cube.deletecontainer(container='E63_kp40_198001_199012_T2m_daymin_merged.nc', force='yes')"
      ]
    }
  ],
  "metadata": {
    "kernelspec": {
      "display_name": "Python 3",
      "language": "python",
      "name": "python3"
    },
    "language_info": {
      "codemirror_mode": {
        "name": "ipython",
        "version": 3
      },
      "file_extension": ".py",
      "mimetype": "text/x-python",
      "name": "python",
      "nbconvert_exporter": "python",
      "pygments_lexer": "ipython3",
      "version": "3.7.4"
    }
  },
  "nbformat": 4,
  "nbformat_minor": 0
}